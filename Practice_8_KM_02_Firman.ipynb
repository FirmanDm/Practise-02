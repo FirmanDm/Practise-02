{
  "nbformat": 4,
  "nbformat_minor": 0,
  "metadata": {
    "colab": {
      "name": "Practice_7_KM-01_.ipynb",
      "provenance": [],
      "collapsed_sections": []
    },
    "kernelspec": {
      "name": "python3",
      "display_name": "Python 3.8.6 64-bit",
      "metadata": {
        "interpreter": {
          "hash": "ffc072094564e26177cf307a4ccfc5c61e3d812ba1aa3b92e2bacd1656c3d566"
        }
      }
    }
  },
  "cells": [
    {
      "cell_type": "markdown",
      "metadata": {
        "id": "FMqboNwO4rVs"
      },
      "source": [
        "# **Курс \"Програмування на мові Python\"**\n",
        "\n",
        "##### Викладачі:\n",
        "##### Борисенко Павло Борисович\n",
        "##### Щьоголєв Максим Олегович\n"
      ]
    },
    {
      "cell_type": "markdown",
      "metadata": {
        "id": "A2T6MigL5Z06"
      },
      "source": [
        "## **Практичне зайняття №8**\n",
        "\n",
        "### Тема: \"Робота з функціями. Локальні та глобальні змінні\""
      ]
    },
    {
      "cell_type": "markdown",
      "metadata": {
        "id": "cfCdgK2zXm7e"
      },
      "source": [
        "### **Завдання 1 (3 бали)**\n",
        "\n",
        "**Підрахувати визначник матриці, використовуючи правило перестановок.**\n",
        "\n",
        "Функція random_matrix() призначена для створення квадратної матриці випадкових чисел. Її змінювати непотрібно.\n",
        "\n",
        "Приклад використання методу permutations() для створення списку перестановок також подається у комірці з кодом.\n",
        "\n",
        "1) Створити 3 функції: функцію створення списку перестановок, функцію підрахунку добутків та функцію підрахунку загальної суми.\n",
        "\n",
        "2) Кожна функція має супроводжуватись рядком документації, що буде коротко описувати її призначення.\n",
        "\n",
        "3) Розмірність квадратної матриці має вводитись користувачем з клавіатури. Підрахунки виконувати лише в тому разі, якщо користувач введе ціле додатне число.\n",
        "\n",
        "4) Загальний результат повинен підраховуватись за допомогою композиції функцій.\n",
        "\n",
        "За бажання можна перевірити правильність роботи програми за допомогою функції np.linalg.det(a)."
      ]
    },
    {
      "cell_type": "code",
      "metadata": {
        "id": "ifNX2M7LXm7f"
      },
      "source": [
        "import numpy as np\n",
        "import itertools\n",
        "\n",
        "\n",
        "def random_matrix(dim):\n",
        "    \"\"\"\n",
        "    The function generates dim x dim array of integers\n",
        "    between 0 and 10.\n",
        "    \"\"\"\n",
        "    matrix = np.random.randint(10, size=(dim, dim))\n",
        "    return matrix\n",
        "\n",
        "\n",
        "def permut_list(dim):\n",
        "    \"\"\"\n",
        "    This function creates list of indexes from 0 to dim-1 and make list of their permutations,\n",
        "    which is used for future calculations.\n",
        "    \"\"\"\n",
        "    ind_list=[]\n",
        "    for i in range(0, dim):\n",
        "        ind_list.append(i)\n",
        "    perm = list(itertools.permutations(ind_list, dim))\n",
        "    return perm\n",
        "\n",
        "def mult_elem(matrix, perm_list, dimension):\n",
        "    \"\"\"\n",
        "    This function calculates elements fo future adding by multiplying needed elements:\n",
        "    their first indexes are 1, 2, ... n and second indexes are permutation of 1, 2, ... n.\n",
        "    If permutation is odd, function multiplies result by (-1), if permutation is odd -\n",
        "    function multiply result by 1. Result of function - list of elements.\n",
        "    \"\"\"\n",
        "    res = []\n",
        "    a = []\n",
        "    for i in range(0, len(perm_list)):\n",
        "        a.append(0)\n",
        "        for j in range(0, dimension):\n",
        "            for k in range(0, dimension):\n",
        "                if j<k and perm_list[i][j]>perm_list[i][k]:\n",
        "                    a[i]+=1\n",
        "        if a[i]%2 ==1:\n",
        "            a[i] = -1\n",
        "        else:\n",
        "            a[i] = 1\n",
        "        res.append(1)\n",
        "        for j in range (0, dimension):\n",
        "            res[i] *= matrix[j][perm_list[i][j]]\n",
        "        res[i] = res[i]*a[i]\n",
        "    return res\n",
        "\n",
        "\n",
        "def sum_mult(elem_list):\n",
        "    \"\"\"\n",
        "    This function gets prepared elements from mult_elem function and calculates determinant by adding them.\n",
        "    \"\"\"\n",
        "    s = 0\n",
        "    for i in range (0, len(elem_list)):\n",
        "        s+= elem_list[i]\n",
        "    return s\n",
        "\n",
        "\n",
        "dimension = input(\"Enter dimension of your matrix:\")\n",
        "while type(dimension) != int:\n",
        "    try:\n",
        "        dimension = int(dimension)\n",
        "        if dimension <= 0:\n",
        "            dimension = input(\"Error: your dimension is 0 or less. Try another dimension. Enter dimension of your matrix:\")\n",
        "    except ValueError:\n",
        "        dimension = input(\"Error: your value is not an integer. Enter dimension of your matrix:\")\n",
        "matrix = random_matrix(dimension)\n",
        "perm_list = permut_list(dimension)\n",
        "print(\"Your matrix:\")\n",
        "print(matrix)\n",
        "print(\"Determinant:\" + str(sum_mult(mult_elem(matrix, perm_list, dimension))))"
      ],
      "execution_count": null,
      "outputs": []
    },
    {
      "cell_type": "code",
      "execution_count": null,
      "metadata": {},
      "outputs": [],
      "source": []
    }
  ]
}