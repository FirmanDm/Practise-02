{
  "nbformat": 4,
  "nbformat_minor": 0,
  "metadata": {
    "colab": {
      "name": "Practice_14_KM_01.ipynb",
      "provenance": [],
      "collapsed_sections": []
    },
    "kernelspec": {
      "name": "python3",
      "display_name": "Python 3"
    }
  },
  "cells": [
    {
      "cell_type": "markdown",
      "metadata": {
        "id": "FMqboNwO4rVs"
      },
      "source": [
        "# **Курс \"Програмування на мові Python\"**\n",
        "\n",
        "##### Викладачі:\n",
        "##### Борисенко Павло Борисович\n",
        "##### Щьоголєв Максим Олегович\n"
      ]
    },
    {
      "cell_type": "markdown",
      "metadata": {
        "id": "A2T6MigL5Z06"
      },
      "source": [
        "## **Практичне зайняття №14**\n",
        "\n",
        "### Тема: \"Робота з файлами\""
      ]
    },
    {
      "cell_type": "markdown",
      "metadata": {
        "id": "cfCdgK2zXm7e"
      },
      "source": [
        "### **Завдання 1 (1,5 бали)**\n",
        "\n",
        "У 1939 році друком вийшов роман американського письменика Ернеста Вінсента Райта \"Ґетсбі\". Особливу увагу публіки він здобув через те, що письменник жодного разу не використав у романі літеру \"e\" (роман складається з більше ніж 50,000 слів), яка є найбільш вживаною літерою в англійській мові.\n",
        "\n",
        "Порахуйте кількість входжень кожної літери у текст роману. Виведіть список літер англійського алфавіту, а також інформацію про те, скільки відсотків від усіх літер тексту складає кожна літера алфавіту.\n",
        "\n",
        "Зауваження:\n",
        "\n",
        "1. Програма має ігнорувати будь-які символи, окрім літер.\n",
        "\n",
        "2. Переведіть усі літери у верхній або у нижній регістр.\n",
        "\n",
        "3. Під час виведення відсортуйте літери у порядку зменшення їхнього відсотка. Літера \"e\" має стояти на останньому місці у цьому списку.\n",
        "\n",
        "4. Виведіть перші 5 та останні 5 літер відсортованого списку разом з відсотковими значеннями, що їм відповідають."
      ]
    },
    {
      "cell_type": "code",
      "metadata": {
        "tags": [
          "outputPrepend"
        ],
        "id": "u4-fHJJ6U462"
      },
      "source": [
        "file = open(\"gadsby.txt\", \"r\")\n",
        "\n",
        "row = file.read()\n",
        "new_row = row.lower( )\n",
        "row_list = list(new_row)\n",
        "\n",
        "letters_list = list(\"abcdefghijklmnopqrtsuvwxyz\")\n",
        "for i in range(-len(row_list),0):\n",
        "    if not row_list[i] in letters_list:\n",
        "        del row_list[i]\n",
        "amount_of_letters = len(row_list)\n",
        "count_list_0 = []\n",
        "count_list_1 = []\n",
        "\n",
        "for letter in letters_list:\n",
        "    count_list_0.append(int(row_list.count(letter)))\n",
        "    count_list_1.append(int(row_list.count(letter)))\n",
        "\n",
        "count_list_1.sort()\n",
        "count_list_1.reverse()\n",
        "letters_with_perc = []\n",
        "for i in range (-len(count_list_1), 0):\n",
        "    j = count_list_0.index(count_list_1[i])\n",
        "    letters_with_perc.append(letters_list[j]+\" - \"+str(round((count_list_1[i]/amount_of_letters)*100,2))+\"%\")\n",
        "    \n",
        "print(\"Letters and thair percentage:\")\n",
        "for i in range (0, len(letters_with_perc)):\n",
        "    print(letters_with_perc[i])\n",
        "print(\"Most used letters:\")\n",
        "for i in range (0, 5):\n",
        "    print(letters_with_perc[i])\n",
        "print(\"Less used letters:\")\n",
        "for i in range (-5,0):\n",
        "    print(letters_with_perc[i])"
      ],
      "execution_count": null,
      "outputs": []
    },
    {
      "cell_type": "markdown",
      "metadata": {
        "id": "A34oz70eU463"
      },
      "source": [
        "### **Завдання 2 (1,5 бали)**\n",
        "\n",
        "Створіть CSV-файл, що буде містити від 5 до 10 пісень (творів) вашого улюбленого музиканта. Назва файлу - ім'я музиканта (композитора) або назва гурту.\n",
        "\n",
        "1. Обов'язково додайте до файлу рядок з назвами двох колонок (Song, Year) або (Composition, Year).\n",
        "\n",
        "2. Після запису файлу роздрукуйте назву файлу та усі наявні у файлі рядки (включно із заголовками).\n",
        "\n",
        "3. Для запису та зчитування рядків скористайтесь функціями csv.DictWriter() та csv.DictReader()."
      ]
    },
    {
      "cell_type": "code",
      "metadata": {
        "id": "MEJIrG1GU463"
      },
      "source": [
        "import csv\n",
        "with open('music_by_Hazy(hope_you_will_listen_at_leats_one).csv', 'w', newline='') as csvfile:\n",
        "    fieldnames = ['Song', 'Year']\n",
        "    writer = csv.DictWriter(csvfile, fieldnames=fieldnames)\n",
        "    writer.writeheader()\n",
        "    writer.writerow({'Song': 'Stargaze',\n",
        "                     'Year': '2020'})\n",
        "    writer.writerow({'Song': 'See',\n",
        "                     'Year': '2020'})\n",
        "    writer.writerow({'Song': 'Forever',\n",
        "                     'Year': '2020'})                     \n",
        "    writer.writerow({'Song': 'Awake',\n",
        "                     'Year': '2020'})\n",
        "    writer.writerow({'Song': 'Ocean',\n",
        "                     'Year': '2019'})\n",
        "    writer.writerow({'Song': 'Dreamer',\n",
        "                     'Year': '2019'})\n",
        "    writer.writerow({'Song': 'Cosmos',\n",
        "                     'Year': '2018'})\n",
        "    writer.writerow({'Song': 'Winter Dusk',\n",
        "                     'Year': '2018'})\n",
        "print('This is my favourite music')\n",
        "print('\\n------------------------------')\n",
        "with open('music_by_Hazy(hope_you_will_listen_at_leats_one).csv', newline='') as csvfile:\n",
        "    reader = csv.DictReader(csvfile)\n",
        "    for heading in reader.fieldnames:\n",
        "        print(heading, end=' ')\n",
        "    print('\\n------------------------------')\n",
        "    for row in reader:\n",
        "        print(row['Song'], row['Year'])\n",
        "print('\\n------------------------------')\n",
        "print('Hope You`ll enjoy it!')                                                                                                       "
      ],
      "execution_count": null,
      "outputs": []
    },
    {
      "cell_type": "markdown",
      "metadata": {
        "id": "Jb-eSBsWU464"
      },
      "source": [
        "### **Завдання 3 (бонусне, 1 бал)**\n",
        "\n",
        "COCO Dataset - набір фотографій та анотацій до них. Його дуже часто використовують для тренування класифікаторів, призначених для розпізнавання об'єктів та визначення ключових точок на зображеннях.\n",
        "\n",
        "Завантажте файли з описом фотографій COCO Dataset за посиланням: http://images.cocodataset.org/annotations/image_info_test2017.zip\n",
        "\n",
        "1. Відкрийте файл image_info_test-dev2017.json. Інформація про фотографії з бази COCO міститься у полі \"images\". Інформація про категорії, на які розділені всі фотографії, міститься у полі \"categories\".\n",
        "\n",
        "2. Визначте кількість фотографій, інформацію про які можна знайти у цьому файлі (кількість елементів, що відповідають ключу \"images\").\n",
        "\n",
        "3. Визначте кількість наявних категорій (кількість елементів, що відповідають ключу \"categories\").\n",
        "\n",
        "4. Виведіть посилання на фотографію 000000000001.jpg (\"coco_url\"), висоту цієї фотографії (\"height\"), ширину (\"width\") та її ідентифікатор (\"id\").\n",
        "\n",
        "5. Опис структури JSON-файлу для набору фотографій COCO можна знайти за посиланням: https://cocodataset.org/#format-data\n",
        "\n",
        "6. Щоб перевірити правильність результатів, у VS Code встановіть розширення JSON та відкрийте файл image_info_test-dev2017.json. Розширення автоматично визначає кількість елементів у кожному полі."
      ]
    },
    {
      "cell_type": "code",
      "metadata": {
        "id": "74C6WKB_U464"
      },
      "source": [
        "import json\n",
        "\n",
        "img = open(\"image_info_test-dev2017.json\")\n",
        "img_row = json.load(img)\n",
        "print(\"Amount of images:\", len(img_row[\"images\"]))\n",
        "print(\"Amount of categories:\", len(img_row[\"categories\"]))\n",
        "for i in range (0, len(img_row[\"images\"])):\n",
        "    if img_row[\"images\"][i].get(\"file_name\")==\"000000000001.jpg\":\n",
        "        print(\"coco_url:\",img_row[\"images\"][i].get(\"coco_url\"))\n",
        "        print(\"height:\",img_row[\"images\"][i].get(\"height\"))\n",
        "        print(\"width:\",img_row[\"images\"][i].get(\"width\"))\n",
        "        print(\"id:\",img_row[\"images\"][i].get(\"id\"))"
      ],
      "execution_count": null,
      "outputs": []
    }
  ]
}