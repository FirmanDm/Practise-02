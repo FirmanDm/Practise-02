{
  "nbformat": 4,
  "nbformat_minor": 0,
  "metadata": {
    "colab": {
      "name": "Practice_10-11_KM_01_.ipynb",
      "provenance": [],
      "collapsed_sections": []
    },
    "kernelspec": {
      "name": "python3",
      "display_name": "Python 3.8.6 64-bit",
      "metadata": {
        "interpreter": {
          "hash": "ffc072094564e26177cf307a4ccfc5c61e3d812ba1aa3b92e2bacd1656c3d566"
        }
      }
    }
  },
  "cells": [
    {
      "cell_type": "markdown",
      "metadata": {
        "id": "FMqboNwO4rVs"
      },
      "source": [
        "# **Курс \"Програмування на мові Python\"**\n",
        "\n",
        "##### Викладачі:\n",
        "##### Борисенко Павло Борисович\n",
        "##### Щьоголєв Максим Олегович\n"
      ]
    },
    {
      "cell_type": "markdown",
      "metadata": {
        "id": "A2T6MigL5Z06"
      },
      "source": [
        "## **Практичні зайняття №10-11**\n",
        "\n",
        "### Тема: \"Ітератори та генератори. Декоратори\""
      ]
    },
    {
      "cell_type": "markdown",
      "metadata": {
        "id": "cfCdgK2zXm7e"
      },
      "source": [
        "### **Завдання 1 (2 бали)**\n",
        "\n",
        "Розрахуйте коефієнти розкладу біному Ньютона за допомогою генератора (https://uk.wikipedia.org/wiki/%D0%91%D1%96%D0%BD%D0%BE%D0%BC_%D0%9D%D1%8C%D1%8E%D1%82%D0%BE%D0%BD%D0%B0).\n",
        "\n",
        "1. Степінь многочлена користувач має вводити з клавіатури (невід'ємне ціле число).\n",
        "\n",
        "2. Програма має підраховувати біноміальні коефіцієнти для біномів усіх степенів, починаючи від 0 і закінчуючи тим, який ввів користувач.\n",
        "\n",
        "3. Коефіцієнти мають виводитись у вигляді трикутника Паскаля.\n",
        "\n",
        "Наприклад, якщо користувач введе число 5, програма має вивести результат:\n",
        "\n",
        "1\n",
        "\n",
        "1 1\n",
        "\n",
        "1 2 1\n",
        "\n",
        "1 3 3 1\n",
        "\n",
        "1 4 6 4 1\n",
        "\n",
        "1 5 10 10 5 1\n"
      ]
    },
    {
      "cell_type": "code",
      "metadata": {
        "id": "Bku8v9CjE_Qc"
      },
      "source": [
        "deg = input(\"Enter degree of your polynomial:\")\n",
        "while type(deg) != int:\n",
        "    try:\n",
        "        deg = int(deg)\n",
        "        if deg < 0:\n",
        "            page_amount = input(\"Error:degree must be non-negative. Enter degree of your polynomial:\")\n",
        "    except ValueError:\n",
        "        page_amount = input(\"Your input is not integer. Enter degree of your polynomial:\")\n",
        "def comb(n):\n",
        "    value = 1\n",
        "    count = 0\n",
        "    k = 0\n",
        "    while count <= n:\n",
        "        yield value\n",
        "        value = int((value*(n-k))/(k+1))\n",
        "        k += 1\n",
        "        count +=1\n",
        "for j in range (0, deg+1):\n",
        "    list_of_coef = [ ]\n",
        "    for i in comb(j):\n",
        "        list_of_coef.append(str(i))\n",
        "    print (' '.join(list_of_coef))"
      ],
      "execution_count": null,
      "outputs": []
    },
    {
      "source": [
        "### **Завдання 2 (4 бали)**\n",
        "\n",
        "Більшість друкованих книг (особливо це стосується книг у твердій палітурці) складаються із зошитів. Припустимо, що в друкарні текст друкується на листах паперу удвічі більших за звичайний книжковий формат. Потім ці листи складаються вдвічі, з них формуються зошити, які потім зшиваються у блок. Зшиті зошити зазвичай складаються з 8, 12 або 16 листів (відповідно 16, 24 або 32 сторінок) кожен.\n",
        "\n",
        "Розглянемо конкретний приклад. \n",
        "\n",
        "Припустимо, що кожен зшитий зошит нашої книги складається з 8 листів (16 сторінок). Якщо уявити великі листи, з яких потім складаються зошити, то на кожному таком листі буде по 4 сторінки книги. У нашій книзі таких великих листів буде 4. Розглянемо перший лист. З одного боку на ньому будуть надруковані сторінки 16 та 1, з іншого - 2 та 15. На другому листі з одного боку будуть надруковані сторінки 14 та 3, з іншого - 4 та 13.\n",
        "\n",
        "**Написати програму, яка визначатиме послідовність сторінок, що будуть надруковані на кожному великому листі.**\n",
        "\n",
        "1. Користувач має вводити з клавіатури три значення: кількість сторінок у книзі (не більше 1280), кількість сторінок у кожному зошиті цієї книги (потрібно буде обрати один з трьох варіантів: 16, 24 або 32) та параметр 0 або 1 (пояснення у п. 5).\n",
        "\n",
        "2. Зверніть увагу на те, що загальна кількість сторінок у книзі має бути кратною кількості сторінок у зошиті. Якщо користувач введе число, що не задовольняє цій умові, програма повинна припинити роботу або запропонувати користувачеві ввесте інше значення. Зауважте також, що 1280 не ділиться на 24.\n",
        "\n",
        "3. Зверніть увагу на те, що на великих листах поворот аркуша відбувається за коротким краєм. Отже, якщо з одного боку аркуша надруковано сторінки 16 та 1, то з іншого 2 та 15 (а не 15, 2), якщо дивитись зліва направо.\n",
        "\n",
        "4. Функція, яка визначатиме послідовність книжкових сторінок, має виводити на екран рядок за рядком номери сторінок кожного зошита, а також кількість зошитів у книзі.\n",
        "\n",
        "5. Створіть функцію-декоратор, яка прийматиме на вхід параметр 0 або 1, конвертований у False або True відповідно, та навісьте його на попередню функцію. Якщо параметр дорівнює False, додаткові функції декоратора не повинні виконуватись, тобто має виконатись лише функція з п. 4. Декоратор повинен створювати список усіх сторінок у потрібній послідовності, причому номери сторінок кожного зошита мають зберігатись в окремому вкладеному списку. Для 16-сторінкового зошита список повинен мати вигляд:\n",
        "\n",
        "`[[16, 1, 2, 15, 14, 3, 4, 13, ..., 10, 7, 8, 9], [32, 17, 18, 31, ...], ... ]`\n",
        "\n",
        "**Бонусне завдання (за бажанням)**\n",
        "\n",
        "6. Замість функції з п. 4 створіть генератор, який буде визначати послідовність книжкових сторінок для кожного зошита. Ці рядки можна потім вивести або у циклі, або за допомогою функції next(). Функція-декоратор має працювати з цим генератором так само, як і зі звичайною функцією."
      ],
      "cell_type": "code",
      "metadata": {
        "id": "oqXwIz3iuPRe"
      },
      "execution_count": null,
      "outputs": []
    },
    {
      "cell_type": "code",
      "metadata": {
        "id": "yiRr2CqMWxLA"
      },
      "source": [
        "page_amount = input(\"Enter amount of pages (1-1280):\")\n",
        "while type(page_amount) != int:\n",
        "    try:\n",
        "        page_amount = int(page_amount)\n",
        "        if page_amount < 1:\n",
        "            page_amount = input(\"Error:book must have at least 1 page. Enter amount of pages(1-1280):\")\n",
        "        elif page_amount > 1280:\n",
        "            page_amount = input(\"Error:book must have at least 1 page. Enter amount of pages(1-1280):\")\n",
        "    except ValueError:\n",
        "        page_amount = input(\"Your input is not integer. Enter amount of pages\")\n",
        "pages_in_sheet = input(\"Choose amount of pages in sheet (16, 24 or 32):\")\n",
        "while type(pages_in_sheet) != int:\n",
        "    try:\n",
        "        pages_in_sheet = int(pages_in_sheet)\n",
        "        if pages_in_sheet not in [16, 24, 32]:\n",
        "            pages_in_sheet = input(\"Wrong input! Choose amount of pages in sheet (16, 24 or 32):\")\n",
        "    except ValueError:\n",
        "        pages_in_sheet = input(\"Wrong input! Choose amount of pages in sheet (16, 24 or 32):\")\n",
        "param = input(\"Choose parameter (0 or 1):\")\n",
        "while type(param) != int:\n",
        "    try:\n",
        "        param = int(param)\n",
        "        if param not in [0, 1]:\n",
        "            param = input(\"Wrong input! Choose parameter (0 or 1):\")\n",
        "    except ValueError:\n",
        "        param = input(\"Your input is not integer. Choose parameter (0 or 1):\")\n",
        "\n",
        "\n",
        "\n",
        "\n",
        "def register(active=True):\n",
        "    def wrap(func):\n",
        "        def wrapper(a, b):\n",
        "            if not active:\n",
        "                func(a, b)\n",
        "            else:\n",
        "                if a % b != 0:\n",
        "                    print(\"Book can`t be printed.\")\n",
        "                else:\n",
        "                    pages = []\n",
        "                    list_of_lists = []\n",
        "                    myit = iter(func(a, b))\n",
        "                    for i in myit:\n",
        "                        pages.append(i)\n",
        "                    for j in range(0, int(a/b)):\n",
        "                        list_of_lists.append([])\n",
        "                        for k in range(0, b):\n",
        "                            list_of_lists[j].append(pages[0])\n",
        "                            del pages[0]\n",
        "                    print(list_of_lists)\n",
        "        return wrapper\n",
        "    return wrap\n",
        "\n",
        "\n",
        "@register(active=bool(param))\n",
        "def numerizer(page_amount, pages_in_sheet):\n",
        "    if page_amount % pages_in_sheet == 0:\n",
        "        print(\"There is\", int(page_amount / pages_in_sheet), \"sheets in book.\")\n",
        "        result = []\n",
        "        for j in range(1, int(page_amount) + 1):\n",
        "            if j % int(pages_in_sheet) == 0:\n",
        "                x = j\n",
        "                one_sheet = []\n",
        "                for i in range(0, int(pages_in_sheet / 4)):\n",
        "                    one_sheet.append(str(x - 2 * i))\n",
        "                    result.append(x - 2 * i)\n",
        "                    one_sheet.append(str(x - pages_in_sheet + 1 + 2 * i))\n",
        "                    result.append(x - pages_in_sheet + 1 + 2 * i)\n",
        "                    one_sheet.append(str(x - pages_in_sheet + 2 + 2 * i))\n",
        "                    result.append(x - pages_in_sheet + 2 + 2 * i)\n",
        "                    one_sheet.append(str(x - 2 * i - 1))\n",
        "                    result.append(x - 2 * i - 1)\n",
        "                print(' '.join(one_sheet))\n",
        "        return result\n",
        "    else:\n",
        "        print (\"Book can`t be printed.\")\n",
        "\n",
        "\n",
        "numerizer(page_amount, pages_in_sheet)\n"
      ],
      "execution_count": null,
      "outputs": []
    },
    {
      "cell_type": "code",
      "execution_count": null,
      "metadata": {},
      "outputs": [],
      "source": []
    }
  ]
}