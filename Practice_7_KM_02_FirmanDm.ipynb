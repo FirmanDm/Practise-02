{
  "nbformat": 4,
  "nbformat_minor": 0,
  "metadata": {
    "colab": {
      "name": "Practice_7_KM-01_.ipynb",
      "provenance": [],
      "collapsed_sections": []
    },
    "kernelspec": {
      "name": "Python 3.8.6 64-bit",
      "display_name": "Python 3.8.6 64-bit",
      "metadata": {
        "interpreter": {
          "hash": "ffc072094564e26177cf307a4ccfc5c61e3d812ba1aa3b92e2bacd1656c3d566"
        }
      }
    }
  },
  "cells": [
    {
      "cell_type": "markdown",
      "metadata": {
        "id": "FMqboNwO4rVs"
      },
      "source": [
        "# **Курс \"Програмування на мові Python\"**\n",
        "\n",
        "##### Викладачі:\n",
        "##### Борисенко Павло Борисович\n",
        "##### Щьоголєв Максим Олегович\n"
      ]
    },
    {
      "cell_type": "markdown",
      "metadata": {
        "id": "A2T6MigL5Z06"
      },
      "source": [
        "## **Практичне зайняття №7**\n",
        "\n",
        "### Тема: \"Перевірка даних. Робота з виключеннями. Регулярні вирази\""
      ]
    },
    {
      "cell_type": "markdown",
      "metadata": {
        "id": "cfCdgK2zXm7e"
      },
      "source": [
        "### **Завдання 1 (1,5 бали)**\n",
        "\n",
        "Переробити завдання №1 практичної роботи №6 з використанням регулярних виразів.\n",
        "\n",
        "1. Створити шаблон регулярного виразу.\n",
        "\n",
        "2. За допомогою функції compile() створити об'єкт регулярного виразу.\n",
        "\n",
        "3. Всі інші вимоги залишаються такими ж, як і в оригінальному завданні."
      ]
    },
    {
      "cell_type": "code",
      "metadata": {
        "id": "ifNX2M7LXm7f"
      },
      "source": [
        "import re\n",
        "\n",
        "pose_estimation = \"[BodyPart:0-(0.55, 0.17) score=0.81 BodyPart:1-(0.49, 0.27) score=0.85 BodyPart:2-(0.41, 0.26) score=0.67 BodyPart:3-(0.33, 0.37) score=0.72 BodyPart:4-(0.36, 0.48) score=0.78 BodyPart:5-(0.58, 0.27) score=0.81 BodyPart:6-(0.65, 0.38) score=0.88 BodyPart:7-(0.62, 0.48) score=0.86 BodyPart:8-(0.43, 0.48) score=0.60 BodyPart:9-(0.43, 0.66) score=0.67 BodyPart:10-(0.53, 0.79) score=0.56 BodyPart:11-(0.53, 0.48) score=0.56 BodyPart:12-(0.59, 0.66) score=0.75 BodyPart:13-(0.49, 0.80) score=0.50 BodyPart:14-(0.54, 0.15) score=0.73 BodyPart:15-(0.56, 0.15) score=0.85 BodyPart:16-(0.48, 0.16) score=0.81 BodyPart:17-(0.83, 0.18) score=0.79]\"\n",
        "\n",
        "needed = r'0.[0-9][0-9]'\n",
        "reNumber = re.compile(needed)\n",
        "numbers = reNumber.findall(pose_estimation)\n",
        "num_list = list(numbers)\n",
        "points =[]\n",
        "score = []\n",
        "for i in range (0,len(num_list)):\n",
        "    if  i % 3 == 0 or i % 3 == 1:\n",
        "        points.append(float(num_list[i]))\n",
        "    else:\n",
        "        score.append(float(num_list[i]))\n",
        "print(\"points = \"+str(points) + \"\\n\" + \"score = \"+str(score))"
      ],
      "execution_count": null,
      "outputs": []
    },
    {
      "cell_type": "markdown",
      "metadata": {
        "id": "M1Sg0vXJXm7n"
      },
      "source": [
        "### **Завдання 2 (1,5 бали)**\n",
        "\n",
        "Написати програму підрахунку коренів квадратного рівняння без попередніх перевірок.\n",
        "\n",
        "1. Користувач має вводити коефіцієнти a, b та c з клавіатури.\n",
        "\n",
        "2. Програма має обробляти помилки ділення на 0, кореня від'ємного числа та інші, а також виводити відповідні повідомлення у разі виникнення таких помилок.\n",
        "\n",
        "3. Якщо рівняння не має коренів, программа має генерувати помилку за допомогою ключового слова raise, а потім обробляти її.\n",
        "\n",
        "4. Правильно написана програма при виникненні різних помилок має виводити текст помилки, а також різні повідомлення про те, в чому суть цих помилок. Необроблених помилок бути не повинно."
      ]
    },
    {
      "cell_type": "code",
      "metadata": {
        "id": "co7fcAuvXm7o"
      },
      "source": [
        "import math\n",
        "\n",
        "a = input(\"Enter coefficient a:\")\n",
        "b = input(\"Enter coefficient b:\")\n",
        "c = input(\"Enter coefficient c:\")\n",
        "try:\n",
        "    d=float(b)**2-4*float(a)*float(c)\n",
        "    try:\n",
        "        if d < 0:\n",
        "            raise ValueError(\"Your equation doesn`t have any solutions.\")\n",
        "        else:\n",
        "            try:\n",
        "                x1 = (((-1 * float(b)) + math.sqrt(float(d))) / (2 * float(a)))\n",
        "                x2 = (((-1 * float(b)) - math.sqrt(float(d))) / (2 * float(a)))\n",
        "                if x1 == x2:\n",
        "                    print(\"Equation has only one root: x=\" + str(x1))\n",
        "                else:\n",
        "                    print(\"Equation has 2 roots: x1=\" + str(x1) + \", x2=\" + str(x2))\n",
        "            except ZeroDivisionError as zedier:\n",
        "                print(\"Error: \" + str(zedier))\n",
        "            except:\n",
        "                print(\"Error: something went wrong during solving.\")\n",
        "    except ValueError as valerr:\n",
        "        print(\"Error: \" + str(valerr))\n",
        "except ValueError:\n",
        "    print (\"Error: one (or more) of your coefficients is not number.\")\n",
        "except:\n",
        "    print(\"Error: something went wrong.\")"
      ],
      "execution_count": null,
      "outputs": []
    },
    {
      "cell_type": "code",
      "execution_count": null,
      "metadata": {},
      "outputs": [],
      "source": []
    }
  ]
}